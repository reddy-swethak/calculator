{
 "cells": [
  {
   "cell_type": "code",
   "execution_count": 21,
   "id": "eaa1f95c-9237-41de-ae9d-399d042776dd",
   "metadata": {},
   "outputs": [],
   "source": [
    "from tkinter import Tk, Entry, Button, StringVar"
   ]
  },
  {
   "cell_type": "code",
   "execution_count": 22,
   "id": "3b1bb17d-6aa0-4e61-8ce6-34b398ff6f1b",
   "metadata": {},
   "outputs": [],
   "source": [
    "class Calculator:\n",
    "    def __init__(self,master):\n",
    "        master.title(\"Calculator\")\n",
    "        master.geometry(\"357x420+0+0\")\n",
    "        master.config(bg='gray')\n",
    "        master.resizable(False,False)\n",
    "\n",
    "        self.equation=StringVar()\n",
    "        self.entry_value=''\n",
    "        Entry(width=17,bg='#ccddff',font=('Arial Bold',28),textvariable=self.equation).place(x=0,y=0)\n",
    "\n",
    "        Button(width=11,height=4,text='(',relief='flat',bg='white',command=lambda:self.show('(')).place(x=0 ,y=50)\n",
    "        Button(width=11,height=4,text=')',relief='flat',bg='white',command=lambda:self.show(')')).place(x=90 ,y=50)\n",
    "        Button(width=11,height=4,text='%',relief='flat',bg='white',command=lambda:self.show('%')).place(x=180 ,y=50)\n",
    "        Button(width=11,height=4,text='1',relief='flat',bg='white',command=lambda:self.show(1)).place(x=0 ,y=125)\n",
    "        Button(width=11,height=4,text='2',relief='flat',bg='white',command=lambda:self.show(2)).place(x=90 ,y=125)\n",
    "        Button(width=11,height=4,text='3',relief='flat',bg='white',command=lambda:self.show(3)).place(x=180 ,y=125)\n",
    "        Button(width=11,height=4,text='4',relief='flat',bg='white',command=lambda:self.show(4)).place(x=0 ,y=200)\n",
    "        Button(width=11,height=4,text='5',relief='flat',bg='white',command=lambda:self.show(5)).place(x=90 ,y=200)\n",
    "        Button(width=11,height=4,text='6',relief='flat',bg='white',command=lambda:self.show(6)).place(x=180 ,y=200)\n",
    "        Button(width=11,height=4,text='7',relief='flat',bg='white',command=lambda:self.show(7)).place(x=0 ,y=275)\n",
    "        Button(width=11,height=4,text='8',relief='flat',bg='white',command=lambda:self.show(8)).place(x=180 ,y=275)\n",
    "        Button(width=11,height=4,text='9',relief='flat',bg='white',command=lambda:self.show(9)).place(x=90 ,y=275)\n",
    "        Button(width=11,height=4,text='0',relief='flat',bg='white',command=lambda:self.show(0)).place(x=90 ,y=350)\n",
    "        Button(width=11,height=4,text='.',relief='flat',bg='white',command=lambda:self.show('.')).place(x=180 ,y=350)\n",
    "        Button(width=11,height=4,text='+',relief='flat',bg='white',command=lambda:self.show('+')).place(x=270 ,y=275)\n",
    "        Button(width=11,height=4,text='-',relief='flat',bg='white',command=lambda:self.show('-')).place(x=270 ,y=200)\n",
    "        Button(width=11,height=4,text='/',relief='flat',bg='white',command=lambda:self.show('/')).place(x=270 ,y=50)\n",
    "        Button(width=11,height=4,text='x',relief='flat',bg='white',command=lambda:self.show('*')).place(x=270 ,y=125)\n",
    "        Button(width=11,height=4,text='=',relief='flat',bg='lightblue',command=self.slove).place(x=270 ,y=350)\n",
    "        Button(width=11,height=4,text='C',relief='flat',command=self.clear).place(x=0 ,y=350)       \n",
    "               \n",
    "    def show(self,value):\n",
    "        self.entry_value+=str(value)\n",
    "        self.equation.set(self.entry_value)\n",
    "\n",
    "    def clear(self):\n",
    "        self.entry_value=''\n",
    "        self.equation.set(self.entry_value)\n",
    "\n",
    "    def slove(self):\n",
    "        result=eval(self.entry_value)\n",
    "        self.equation.set(result)"
   ]
  },
  {
   "cell_type": "code",
   "execution_count": 23,
   "id": "dffb81c1-3fff-446d-a5de-afc05b5053b9",
   "metadata": {},
   "outputs": [],
   "source": [
    "root=Tk()\n",
    "calculator=Calculator(root)\n",
    "root.mainloop()"
   ]
  },
  {
   "cell_type": "code",
   "execution_count": null,
   "id": "d56226b9-0794-41f8-8a42-84991676dd22",
   "metadata": {},
   "outputs": [],
   "source": []
  }
 ],
 "metadata": {
  "kernelspec": {
   "display_name": "Python 3 (ipykernel)",
   "language": "python",
   "name": "python3"
  },
  "language_info": {
   "codemirror_mode": {
    "name": "ipython",
    "version": 3
   },
   "file_extension": ".py",
   "mimetype": "text/x-python",
   "name": "python",
   "nbconvert_exporter": "python",
   "pygments_lexer": "ipython3",
   "version": "3.11.7"
  }
 },
 "nbformat": 4,
 "nbformat_minor": 5
}
